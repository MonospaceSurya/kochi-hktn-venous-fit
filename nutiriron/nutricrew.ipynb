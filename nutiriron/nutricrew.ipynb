{
 "cells": [
  {
   "cell_type": "markdown",
   "metadata": {},
   "source": [
    "# Starting"
   ]
  },
  {
   "cell_type": "code",
   "execution_count": 1,
   "metadata": {},
   "outputs": [],
   "source": [
    "import pandas as pd\n",
    "from docx import Document\n",
    "\n",
    "# Function to read Word documents\n",
    "def read_word_file(filepath):\n",
    "    doc = Document(filepath)\n",
    "    return '\\n'.join([para.text for para in doc.paragraphs])\n",
    "\n",
    "# Function to read CSV file for demographics\n",
    "def read_csv_file(filepath):\n",
    "    df = pd.read_csv(filepath)\n",
    "    demograph = df.to_dict(orient='records')[0]  # Assuming one record, adjust if multiple records\n",
    "    return demograph"
   ]
  },
  {
   "cell_type": "code",
   "execution_count": 2,
   "metadata": {},
   "outputs": [],
   "source": [
    "iflammation = read_word_file(\"./Anti inflamatory foods.docx\")\n",
    "guidelines = read_word_file(\"./Diet principles.docx\")\n",
    "#demo = pd.read_csv(\"patient_data.csv\")\n",
    "demo = read_csv_file('patient_data.csv')\n",
    "\n",
    "#start_values = demo.iloc[0]\n",
    "#updated = demo['updated']\n",
    "diabet = read_word_file(\"./DM and Htn.docx\")"
   ]
  },
  {
   "cell_type": "code",
   "execution_count": 3,
   "metadata": {},
   "outputs": [],
   "source": [
    "# For the demographics, converting dictionary to a string\n",
    "demograph_str = ', '.join([f\"{key}: {value}\" for key, value in demo.items()])"
   ]
  }
 ],
 "metadata": {
  "kernelspec": {
   "display_name": "Python 3",
   "language": "python",
   "name": "python3"
  },
  "language_info": {
   "codemirror_mode": {
    "name": "ipython",
    "version": 3
   },
   "file_extension": ".py",
   "mimetype": "text/x-python",
   "name": "python",
   "nbconvert_exporter": "python",
   "pygments_lexer": "ipython3",
   "version": "3.11.5"
  }
 },
 "nbformat": 4,
 "nbformat_minor": 2
}
